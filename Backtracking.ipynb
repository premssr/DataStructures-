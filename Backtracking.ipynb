{
 "cells": [
  {
   "cell_type": "markdown",
   "metadata": {},
   "source": [
    "Subset: Given an array arr[] of integers of size N that might contain duplicates, the task is to find all possible unique subsets."
   ]
  },
  {
   "cell_type": "code",
   "execution_count": 50,
   "metadata": {},
   "outputs": [
    {
     "name": "stdout",
     "output_type": "stream",
     "text": [
      "[[], [1], [1, 2], [1, 2, 3], [1, 3], [2], [2, 3], [3]]\n"
     ]
    }
   ],
   "source": [
    "def AllSubsets(a,n):\n",
    "    #code here\n",
    "    arr=sorted(a)\n",
    "    lis=[]\n",
    "    def subset(arr,curr,index):\n",
    "        \n",
    "        if(index==len(arr)):\n",
    "            if(curr in lis):\n",
    "                return\n",
    "            lis.append(curr)\n",
    "            return\n",
    "            \n",
    "        subset(arr,curr,index+1)\n",
    "        subset(arr,curr+[arr[index]],index+1)\n",
    "        \n",
    "    subset(arr,[],0)\n",
    "    \n",
    "    lis=sorted(lis)\n",
    "    \n",
    "    return lis\n",
    "print(AllSubsets([1,2,3],3))"
   ]
  },
  {
   "cell_type": "code",
   "execution_count": 48,
   "metadata": {},
   "outputs": [
    {
     "data": {
      "text/plain": [
       "[[11, 2], [2, 3], [4, 5]]"
      ]
     },
     "execution_count": 48,
     "metadata": {},
     "output_type": "execute_result"
    }
   ],
   "source": []
  },
  {
   "cell_type": "code",
   "execution_count": null,
   "metadata": {},
   "outputs": [],
   "source": []
  }
 ],
 "metadata": {
  "kernelspec": {
   "display_name": "Python 3",
   "language": "python",
   "name": "python3"
  },
  "language_info": {
   "codemirror_mode": {
    "name": "ipython",
    "version": 3
   },
   "file_extension": ".py",
   "mimetype": "text/x-python",
   "name": "python",
   "nbconvert_exporter": "python",
   "pygments_lexer": "ipython3",
   "version": "3.7.3"
  }
 },
 "nbformat": 4,
 "nbformat_minor": 2
}
