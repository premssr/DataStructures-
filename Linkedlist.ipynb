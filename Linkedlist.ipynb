{
 "cells": [
  {
   "cell_type": "code",
   "execution_count": 18,
   "metadata": {},
   "outputs": [],
   "source": []
  },
  {
   "cell_type": "code",
   "execution_count": null,
   "metadata": {},
   "outputs": [],
   "source": []
  },
  {
   "cell_type": "code",
   "execution_count": null,
   "metadata": {},
   "outputs": [],
   "source": []
  },
  {
   "cell_type": "code",
   "execution_count": 5,
   "metadata": {},
   "outputs": [],
   "source": [
    "class node:\n",
    "    def __init__(self,data=None):\n",
    "        self.data=data\n",
    "        self.next=None\n",
    "\n",
    "class linked_list:\n",
    "    def __init__(self):\n",
    "        self.head=node()\n",
    "\n",
    "    def append(self,data):\n",
    "        new_node=node(data)\n",
    "        cur=self.head\n",
    "        while cur.next!=None:\n",
    "            cur=cur.next\n",
    "        cur.next=new_node\n",
    "        \n",
    "    def display(self):\n",
    "        elem=[]\n",
    "        cur=self.head\n",
    "        while cur.next!=None:\n",
    "            cur=cur.next\n",
    "            elem.append(cur.data)\n",
    "            \n",
    "            \n",
    "        print(elem)"
   ]
  },
  {
   "cell_type": "code",
   "execution_count": 21,
   "metadata": {},
   "outputs": [
    {
     "name": "stdout",
     "output_type": "stream",
     "text": [
      "[2, 1, 4, 6]\n",
      "[8, 2, 6, 4]\n"
     ]
    }
   ],
   "source": [
    "lis1=linked_list()\n",
    "lis2=linked_list()\n",
    "\n",
    "lis1.append(2)\n",
    "lis1.append(1)\n",
    "lis1.append(4)\n",
    "lis1.append(6)\n",
    "\n",
    "lis2.append(8)\n",
    "lis2.append(2)\n",
    "lis2.append(6)\n",
    "lis2.append(4)\n",
    "\n",
    "\n",
    "lis1.display()\n",
    "lis2.display()\n",
    "\n"
   ]
  },
  {
   "cell_type": "code",
   "execution_count": 22,
   "metadata": {},
   "outputs": [],
   "source": [
    "def countPair(obj_head1, obj_head2, req_sum): \n",
    "    \n",
    "    count = 0\n",
    "    node1 = obj_head1 \n",
    "    \n",
    "    while(node1 != None): \n",
    "        \n",
    "        node2 = head2 \n",
    "        while(node2 != None): \n",
    "            if ((node1.data + node2.data) == req_sum): \n",
    "                count+=1\n",
    "            node2 = node2.next\n",
    "\n",
    "        node1 = node1.next\n",
    "    \n",
    "    return count"
   ]
  },
  {
   "cell_type": "code",
   "execution_count": 23,
   "metadata": {},
   "outputs": [
    {
     "name": "stdout",
     "output_type": "stream",
     "text": [
      "Count =  3\n"
     ]
    }
   ],
   "source": [
    "head1=lis1.head.next\n",
    "head2=lis2.head.next\n",
    "req_sum=10\n",
    "print(\"Count = \",countPair(head1, head2, req_sum))"
   ]
  },
  {
   "cell_type": "code",
   "execution_count": null,
   "metadata": {},
   "outputs": [],
   "source": []
  }
 ],
 "metadata": {
  "kernelspec": {
   "display_name": "Python 3",
   "language": "python",
   "name": "python3"
  },
  "language_info": {
   "codemirror_mode": {
    "name": "ipython",
    "version": 3
   },
   "file_extension": ".py",
   "mimetype": "text/x-python",
   "name": "python",
   "nbconvert_exporter": "python",
   "pygments_lexer": "ipython3",
   "version": "3.7.3"
  }
 },
 "nbformat": 4,
 "nbformat_minor": 2
}
