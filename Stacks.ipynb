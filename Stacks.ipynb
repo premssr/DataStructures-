{
 "cells": [
  {
   "cell_type": "code",
   "execution_count": 3,
   "metadata": {},
   "outputs": [
    {
     "data": {
      "text/plain": [
       "2"
      ]
     },
     "execution_count": 3,
     "metadata": {},
     "output_type": "execute_result"
    }
   ],
   "source": [
    "\n",
    "\n",
    "def adjacent(arr):\n",
    "    stack=[]\n",
    "    n=len(arr)\n",
    "    for i in range(n):\n",
    "        if(len(stack)==0 or stack[-1]!=arr[i]):\n",
    "            stack.append(arr[i])\n",
    "            \n",
    "        elif(stack[-1]==arr[i]):\n",
    "            stack.pop()\n",
    "            \n",
    "    return len(stack)\n",
    "\n",
    "arr=[1,1,2,2,1,3]\n",
    "adjacent(arr) \n"
   ]
  },
  {
   "cell_type": "markdown",
   "metadata": {},
   "source": [
    "\n"
   ]
  },
  {
   "cell_type": "code",
   "execution_count": null,
   "metadata": {},
   "outputs": [],
   "source": []
  }
 ],
 "metadata": {
  "kernelspec": {
   "display_name": "Python 3",
   "language": "python",
   "name": "python3"
  },
  "language_info": {
   "codemirror_mode": {
    "name": "ipython",
    "version": 3
   },
   "file_extension": ".py",
   "mimetype": "text/x-python",
   "name": "python",
   "nbconvert_exporter": "python",
   "pygments_lexer": "ipython3",
   "version": "3.7.3"
  }
 },
 "nbformat": 4,
 "nbformat_minor": 2
}
