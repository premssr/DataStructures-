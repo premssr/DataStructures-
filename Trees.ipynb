{
 "cells": [
  {
   "cell_type": "markdown",
   "metadata": {},
   "source": [
    "Count smaller elements on right side"
   ]
  },
  {
   "cell_type": "code",
   "execution_count": 5,
   "metadata": {},
   "outputs": [
    {
     "name": "stdout",
     "output_type": "stream",
     "text": [
      "[4, 3, 2, 1, 0]\n"
     ]
    }
   ],
   "source": [
    "import bisect\n",
    "def countright(arr):\n",
    "    n=len(arr)\n",
    "    temp=[arr[n-1]]\n",
    "    count=0\n",
    "    res=[0 for i in range(n)]\n",
    "    for i in range(n-2,-1,-1):\n",
    "        k=bisect.bisect_right(temp,arr[i])\n",
    "        count+=k\n",
    "        res[i]=k\n",
    "        temp.insert(k,arr[n-2])\n",
    "        \n",
    "    return count,res\n",
    "\n",
    "count,k=countright([5,4,3,2,1])\n",
    "print(k) "
   ]
  },
  {
   "cell_type": "code",
   "execution_count": null,
   "metadata": {},
   "outputs": [],
   "source": []
  }
 ],
 "metadata": {
  "kernelspec": {
   "display_name": "Python 3",
   "language": "python",
   "name": "python3"
  },
  "language_info": {
   "codemirror_mode": {
    "name": "ipython",
    "version": 3
   },
   "file_extension": ".py",
   "mimetype": "text/x-python",
   "name": "python",
   "nbconvert_exporter": "python",
   "pygments_lexer": "ipython3",
   "version": "3.7.3"
  }
 },
 "nbformat": 4,
 "nbformat_minor": 2
}
