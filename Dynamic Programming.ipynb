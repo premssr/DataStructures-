{
 "cells": [
  {
   "cell_type": "markdown",
   "metadata": {},
   "source": [
    "#                                                     Dynamic Programming"
   ]
  },
  {
   "cell_type": "markdown",
   "metadata": {},
   "source": [
    "##### Fibonacci (Top down/ Memorization)"
   ]
  },
  {
   "cell_type": "code",
   "execution_count": 6,
   "metadata": {},
   "outputs": [
    {
     "name": "stdout",
     "output_type": "stream",
     "text": [
      "354224848179261915075\n"
     ]
    }
   ],
   "source": [
    "def fibo(n):\n",
    "    \n",
    "    if(memo[n]==-1):\n",
    "        \n",
    "        if(n==0 or n==1):\n",
    "            return n\n",
    "        else:\n",
    "            res= fibo(n-1) + fibo(n-2)\n",
    "            \n",
    "        memo[n]=res\n",
    "    \n",
    "    return memo[n]\n",
    "\n",
    "n=100 \n",
    "memo=[-1]*(n+1)\n",
    "print(fibo(n))"
   ]
  },
  {
   "cell_type": "markdown",
   "metadata": {},
   "source": [
    "##### Fibonacci (Bottom up/ Tabulation)"
   ]
  },
  {
   "cell_type": "code",
   "execution_count": 9,
   "metadata": {},
   "outputs": [
    {
     "name": "stdout",
     "output_type": "stream",
     "text": [
      "354224848179261915075\n"
     ]
    }
   ],
   "source": [
    "def fibo(n):\n",
    "    fibo=[0]*(n+1)\n",
    "    fibo[0]=0\n",
    "    fibo[1]=1\n",
    "    \n",
    "    for i in range(2,n+1):\n",
    "        fibo[i]=fibo[i-1]+fibo[i-2]\n",
    "        \n",
    "    return fibo[n]\n",
    "\n",
    "print(fibo(100))\n",
    "    "
   ]
  },
  {
   "cell_type": "markdown",
   "metadata": {},
   "source": [
    "###### Longest Common Subsequence, recursive"
   ]
  },
  {
   "cell_type": "code",
   "execution_count": 12,
   "metadata": {},
   "outputs": [
    {
     "name": "stdout",
     "output_type": "stream",
     "text": [
      "3\n"
     ]
    }
   ],
   "source": [
    "def lcs(st1,st2,m,n):\n",
    "    if(m==0 or n==0):\n",
    "        return 0\n",
    "    \n",
    "    if(st1[m-1]==st2[n-1]):\n",
    "        return 1+lcs(st1,st2,m-1,n-1)\n",
    "    else:\n",
    "       return max(lcs(st1,st2,m-1,n),lcs(st1,st2,m,n-1))\n",
    "\n",
    "st1=\"abcdgh\"\n",
    "m=6\n",
    "st2='aedfhr'\n",
    "n=6\n",
    "\n",
    "print(lcs(st1,st2,m,n))"
   ]
  },
  {
   "cell_type": "markdown",
   "metadata": {},
   "source": [
    "###### Longest Common Subsequence, Memorisation"
   ]
  },
  {
   "cell_type": "code",
   "execution_count": 19,
   "metadata": {},
   "outputs": [
    {
     "name": "stdout",
     "output_type": "stream",
     "text": [
      "3\n"
     ]
    }
   ],
   "source": [
    "def lcs(st1,st2,m,n):\n",
    "    if(memo[m][n]!=-1):\n",
    "        return memo[m][n]\n",
    "    \n",
    "    if(m==0 or n==0):\n",
    "            return 0\n",
    "    else:\n",
    "        \n",
    "        if(st1[m-1]==st2[n-1]):\n",
    "            memo[m][n]= 1+lcs(st1,st2,m-1,n-1)\n",
    "        else:\n",
    "            memo[m][n]= max(lcs(st1,st2,m-1,n),lcs(st1,st2,m,n-1))\n",
    "        \n",
    "    return memo[m][n]\n",
    "\n",
    "\n",
    "\n",
    "st1=\"abcdgh\"\n",
    "m=6\n",
    "st2='aedfhr'\n",
    "n=6\n",
    "memo=[]\n",
    "for i in range(m+1):\n",
    "    memo.append([-1]*(n+1))\n",
    "       \n",
    "\n",
    "print(lcs(st1,st2,m,n))"
   ]
  },
  {
   "cell_type": "markdown",
   "metadata": {},
   "source": [
    "###### Coin Change(Count Combination)/ recurssive"
   ]
  },
  {
   "cell_type": "code",
   "execution_count": 29,
   "metadata": {},
   "outputs": [
    {
     "name": "stdout",
     "output_type": "stream",
     "text": [
      "5\n"
     ]
    }
   ],
   "source": [
    "def getcount(coins,n,suma):\n",
    "    \n",
    "    \n",
    "    if(suma==0):\n",
    "        return 1\n",
    "    if(n==0):\n",
    "        return 0\n",
    "    \n",
    "    \n",
    "    res=getcount(coins,n-1,suma)\n",
    "    if(coins[n-1]<=suma):\n",
    "        res= res+getcount(coins,n,suma-coins[n-1])\n",
    "        \n",
    "    return res\n",
    "\n",
    "coins=[2,5,3,6]\n",
    "suma=10\n",
    "print(getcount(coins,4,suma))"
   ]
  },
  {
   "cell_type": "markdown",
   "metadata": {},
   "source": [
    "###### Coin Change(Count Combination)/ Dynamically"
   ]
  },
  {
   "cell_type": "code",
   "execution_count": 31,
   "metadata": {},
   "outputs": [
    {
     "name": "stdout",
     "output_type": "stream",
     "text": [
      "5\n"
     ]
    }
   ],
   "source": [
    "def getcount(coins,n,suma):\n",
    "\n",
    "    \n",
    "    for i in range(n+1):\n",
    "        dp[0][i]=1\n",
    "    for i in range(suma+1):\n",
    "        dp[i][0]=0\n",
    "        \n",
    "    for i in range(1,suma+1):\n",
    "        for j in range(1,n+1):\n",
    "            dp[i][j]=dp[i][j-1]\n",
    "            \n",
    "            if(coins[j-1]<=suma):\n",
    "                dp[i][j]+=dp[i-coins[j-1]][j]\n",
    "                \n",
    "    \n",
    "    return dp[suma][n]\n",
    "\n",
    "\n",
    "\n",
    "\n",
    "\n",
    "coins=[2,5,3,6]\n",
    "n=4\n",
    "suma=10\n",
    "dp=[]\n",
    "for i in range(suma+1):\n",
    "    dp.append([0]*(n+1))\n",
    "    \n",
    "\n",
    "print(getcount(coins,n,suma))"
   ]
  },
  {
   "cell_type": "markdown",
   "metadata": {},
   "source": [
    "###### Edit distance"
   ]
  },
  {
   "cell_type": "code",
   "execution_count": 52,
   "metadata": {},
   "outputs": [
    {
     "name": "stdout",
     "output_type": "stream",
     "text": [
      "1\n"
     ]
    }
   ],
   "source": [
    "def eD(st1,st2,m,n):\n",
    "    dp=[]\n",
    "    for i in range(m+1):\n",
    "        dp.append([0]*(n+1))\n",
    "        \n",
    "    for i in range(m+1):\n",
    "        dp[i][0]=i\n",
    "    for i in range(n+1):\n",
    "        dp[0][i]=i\n",
    "        \n",
    "        \n",
    "    for i in range(1,m+1):\n",
    "        for j in range(1,n+1):\n",
    "            if(st1[i-1]==st2[j-1]):\n",
    "                dp[i][j]=dp[i-1][j-1]\n",
    "                \n",
    "            else:\n",
    "                dp[i][j]=1+min(dp[i-1][j],dp[i-1][j-1],dp[i][j-1])\n",
    "                \n",
    "                \n",
    "    return dp[m][n]\n",
    "\n",
    "\n",
    "st1=\"CAT\"\n",
    "m=3\n",
    "st2=\"CUT\"\n",
    "n=3\n",
    "\n",
    "print(eD(st1,st2,m,n))\n"
   ]
  },
  {
   "cell_type": "markdown",
   "metadata": {},
   "source": [
    "###### Maximum cuts/ recurssive"
   ]
  },
  {
   "cell_type": "code",
   "execution_count": 1,
   "metadata": {},
   "outputs": [
    {
     "name": "stdout",
     "output_type": "stream",
     "text": [
      "5\n"
     ]
    }
   ],
   "source": [
    "def getcuts(n,a,b,c):\n",
    "    \n",
    "    if(n==0):\n",
    "        return 0\n",
    "    if(n<0):\n",
    "        return -1\n",
    "    \n",
    "    res= max(getcuts(n-a,a,b,c),getcuts(n-b,a,b,c),getcuts(n-c,a,b,c))\n",
    "    \n",
    "    if(res==-1):\n",
    "        return res\n",
    "    else:\n",
    "        return res+1\n",
    "        \n",
    "print(getcuts(5,1,2,3))   "
   ]
  },
  {
   "cell_type": "markdown",
   "metadata": {},
   "source": [
    "###### Maximum cuts/ Dynamic programming"
   ]
  },
  {
   "cell_type": "code",
   "execution_count": 6,
   "metadata": {},
   "outputs": [
    {
     "name": "stdout",
     "output_type": "stream",
     "text": [
      "2\n"
     ]
    }
   ],
   "source": [
    "def getcuts(n,a,b,c):\n",
    "    \n",
    "    dp=[0]*(n+1)\n",
    "    \n",
    "    for i in range(1,n+1):\n",
    "        dp[i]=-1\n",
    "        if(i-a>=0):\n",
    "            dp[i]=max(dp[i],dp[i-a])\n",
    "        if(i-b>=0):\n",
    "            dp[i]=max(dp[i],dp[i-b])\n",
    "        if(i-c>=0):\n",
    "            dp[i]=max(dp[i],dp[i-c])\n",
    "            \n",
    "        if(dp[i]!=-1):\n",
    "            dp[i]+=1\n",
    "    \n",
    "    return dp[n]\n",
    "\n",
    "print(getcuts(23,11,12,13)) "
   ]
  },
  {
   "cell_type": "code",
   "execution_count": 55,
   "metadata": {},
   "outputs": [
    {
     "name": "stdout",
     "output_type": "stream",
     "text": [
      "2\n",
      "None\n"
     ]
    }
   ],
   "source": [
    "def final():\n",
    "    def getcount(coins,n,suma,temp):\n",
    "        \n",
    "        if(suma==0):\n",
    "            lent[0]=(min(len(temp),lent[0]))\n",
    "            \n",
    "            return \n",
    "        if(n==0 or suma<0):\n",
    "            return \n",
    "\n",
    "        temp.append(coins[n-1])\n",
    "        getcount(coins,n,suma-coins[n-1],temp)\n",
    "        temp.pop(-1)\n",
    "        getcount(coins,n-1,suma,temp)\n",
    "\n",
    "\n",
    "        return\n",
    "\n",
    "    coins=[2,5,3,6]\n",
    "    n=4\n",
    "    suma=10\n",
    "    result=[]\n",
    "    lent=[1000000000]\n",
    "    getcount(coins,n,suma,[])\n",
    "    #print(result)\n",
    "    print(lent[0])\n",
    "       \n",
    "    return\n",
    "print(final())"
   ]
  },
  {
   "cell_type": "markdown",
   "metadata": {},
   "source": [
    "###### Minimum jumps"
   ]
  },
  {
   "cell_type": "code",
   "execution_count": 1,
   "metadata": {},
   "outputs": [
    {
     "data": {
      "text/plain": [
       "2"
      ]
     },
     "execution_count": 1,
     "metadata": {},
     "output_type": "execute_result"
    }
   ],
   "source": [
    "def minjumps(arr,n):\n",
    "    \n",
    "    res=1000000009\n",
    "    dp=[1000000009]*n\n",
    "    dp[0]=0\n",
    "    for i in range(1,n):\n",
    "        for j in range(i):\n",
    "            if(arr[j]+j>=i):\n",
    "                if(dp[j]!=1000000009):\n",
    "                    dp[i]=min(dp[i],dp[j]+1)\n",
    "                    \n",
    "    return dp[n-1]\n",
    "\n",
    "arr=[3,4,2,1,2,1]\n",
    "minjumps(arr,6)"
   ]
  },
  {
   "cell_type": "markdown",
   "metadata": {},
   "source": [
    "###### 0/1 Knapsack Problem/ recursive"
   ]
  },
  {
   "cell_type": "code",
   "execution_count": 13,
   "metadata": {},
   "outputs": [
    {
     "data": {
      "text/plain": [
       "90"
      ]
     },
     "execution_count": 13,
     "metadata": {},
     "output_type": "execute_result"
    }
   ],
   "source": [
    "def knapsack(w,wt,val,n):\n",
    "    \n",
    "    if(n==0 or w==0):\n",
    "        return 0\n",
    "    \n",
    "    if(wt[n-1]>w):\n",
    "        return knapsack(w,wt,val,n-1)\n",
    "    else:\n",
    "        return max(knapsack(w,wt,val,n-1),val[n-1]+knapsack(w-wt[n-1],wt,val,n-1))\n",
    "    \n",
    "w=10\n",
    "wt=[5,4,6,3]\n",
    "val=[10,40,30,50]\n",
    "\n",
    "knapsack(w,wt,val,4)"
   ]
  },
  {
   "cell_type": "markdown",
   "metadata": {},
   "source": [
    "###### 0/1 Knapsack problem/ Dynamic Programming"
   ]
  },
  {
   "cell_type": "code",
   "execution_count": null,
   "metadata": {},
   "outputs": [],
   "source": []
  }
 ],
 "metadata": {
  "kernelspec": {
   "display_name": "Python 3",
   "language": "python",
   "name": "python3"
  },
  "language_info": {
   "codemirror_mode": {
    "name": "ipython",
    "version": 3
   },
   "file_extension": ".py",
   "mimetype": "text/x-python",
   "name": "python",
   "nbconvert_exporter": "python",
   "pygments_lexer": "ipython3",
   "version": "3.7.3"
  }
 },
 "nbformat": 4,
 "nbformat_minor": 2
}
